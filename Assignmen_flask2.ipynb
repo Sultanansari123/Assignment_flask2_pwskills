{
 "cells": [
  {
   "cell_type": "markdown",
   "id": "c8350f46-39d7-4f22-b459-aa2f1c531528",
   "metadata": {},
   "source": [
    "# Flask2"
   ]
  },
  {
   "cell_type": "markdown",
   "id": "2717d4c7-c0a2-4ade-9736-af8b7b0ddeab",
   "metadata": {},
   "source": [
    "Ans1-\n",
    "GET when you are retrieving data, and the operation is idempotent (retrieving the same data multiple times has the same effect)."
   ]
  },
  {
   "cell_type": "markdown",
   "id": "5ae19fcb-53d8-4b37-a534-2a9f74a9428d",
   "metadata": {},
   "source": [
    "POST when you are submitting data, especially sensitive information, or when the operation has side effects (not idempotent). Forms in HTML often use the POST method for data submission."
   ]
  },
  {
   "cell_type": "markdown",
   "id": "62fb3024-6573-4432-8c94-98d505ae464e",
   "metadata": {},
   "source": [
    "Ans2- why is request used in flask-\n",
    "the request object in Flask is a crucial tool for handling and processing incoming data from clients, enabling developers to create dynamic and interactive web applications."
   ]
  },
  {
   "cell_type": "markdown",
   "id": "f51f50d9-e5de-42e5-accd-598bc17d0f55",
   "metadata": {},
   "source": [
    "Asn3-\n",
    "In Flask, the redirect function is used to perform a redirection to a different URL. \n"
   ]
  },
  {
   "cell_type": "markdown",
   "id": "3f1c29d3-25bb-4728-b8d5-e6f70031f084",
   "metadata": {},
   "source": [
    "Using redirect function,, improving navigation, maintaining URL structure changes, and handling various scenarios in web applications."
   ]
  },
  {
   "cell_type": "code",
   "execution_count": null,
   "id": "19f71c77-0d88-4615-a039-4706af3323d8",
   "metadata": {},
   "outputs": [],
   "source": []
  }
 ],
 "metadata": {
  "kernelspec": {
   "display_name": "Python 3 (ipykernel)",
   "language": "python",
   "name": "python3"
  },
  "language_info": {
   "codemirror_mode": {
    "name": "ipython",
    "version": 3
   },
   "file_extension": ".py",
   "mimetype": "text/x-python",
   "name": "python",
   "nbconvert_exporter": "python",
   "pygments_lexer": "ipython3",
   "version": "3.10.8"
  }
 },
 "nbformat": 4,
 "nbformat_minor": 5
}
